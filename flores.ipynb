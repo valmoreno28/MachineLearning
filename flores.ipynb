{
  "nbformat": 4,
  "nbformat_minor": 0,
  "metadata": {
    "colab": {
      "provenance": [],
      "collapsed_sections": [],
      "include_colab_link": true
    },
    "kernelspec": {
      "name": "python3",
      "display_name": "Python 3"
    },
    "accelerator": "GPU"
  },
  "cells": [
    {
      "cell_type": "markdown",
      "metadata": {
        "id": "view-in-github",
        "colab_type": "text"
      },
      "source": [
        "<a href=\"https://colab.research.google.com/github/valmoreno28/MachineLearning/blob/main/flores.ipynb\" target=\"_parent\"><img src=\"https://colab.research.google.com/assets/colab-badge.svg\" alt=\"Open In Colab\"/></a>"
      ]
    },
    {
      "cell_type": "code",
      "metadata": {
        "id": "c4R_A0gjb7fn"
      },
      "source": [
        "pip install keras streamlit pillow numpy"
      ],
      "execution_count": null,
      "outputs": []
    },
    {
      "cell_type": "code",
      "metadata": {
        "id": "qRQMMZ5qDI_E"
      },
      "source": [
        "pip -q install streamlit"
      ],
      "execution_count": null,
      "outputs": []
    },
    {
      "cell_type": "markdown",
      "metadata": {
        "id": "6PlldTc9R_pb"
      },
      "source": [
        "If you want to use your own model from Teachable Machine, just upload the `keras_model.h5` file."
      ]
    },
    {
      "cell_type": "markdown",
      "metadata": {
        "id": "Pjl8MssXasJF"
      },
      "source": [
        "The following is the `app.py` base code. It can be modified in the cell or in the folder to the left."
      ]
    },
    {
      "cell_type": "code",
      "metadata": {
        "id": "nrI8dgogDf5b"
      },
      "source": [
        "%%writefile app.py\n",
        "import streamlit as st\n",
        "from img_classification import teachable_machine_classification\n",
        "import keras\n",
        "from PIL import Image, ImageOps\n",
        "import numpy as np\n",
        "\n",
        "\n",
        "st.title(\"Aplicación de reconocimiento de flores\")\n",
        "st.subheader(\"Por: Valeria Moreno\")\n",
        "\n",
        "uploaded_file = st.file_uploader(\"Carga una imagen ...\", type=[\"jpg\",\"jpeg\"])\n",
        "if uploaded_file is not None:\n",
        "  image = Image.open(uploaded_file)\n",
        "  label = teachable_machine_classification(image, 'keras_model.h5') \n",
        "  if label == 0:\n",
        "    st.write(\"Esta planta es Damask Rose\")\n",
        "    st.write(label)\n",
        "  if label == 1:\n",
        "    st.write(\"Esta planta es Echeveria Flower\")\n",
        "  if label == 2:\n",
        "    st.write(\"Esta planta es Mirabilis Jalapa\")\n",
        "  if label == 3:\n",
        "    st.write(\"Esta planta es Rain Lily\")\n",
        "  if label == 4:\n",
        "     st.write(\"Zinnia Elegans\")\n",
        "  #st.write(label)"
      ],
      "execution_count": null,
      "outputs": []
    },
    {
      "cell_type": "code",
      "metadata": {
        "id": "Xj_O4Cbob18M",
        "outputId": "93713fe6-de0e-409c-d5d2-1e539369ed60",
        "colab": {
          "base_uri": "https://localhost:8080/"
        }
      },
      "source": [
        "%%writefile img_classification.py\n",
        "import tensorflow.keras\n",
        "from PIL import Image, ImageOps\n",
        "import numpy as np\n",
        "\n",
        "\n",
        "def teachable_machine_classification(img, weights_file):\n",
        "    # Load the model\n",
        "    model = tensorflow.keras.models.load_model(weights_file)\n",
        "\n",
        "    # Create the array of the right shape to feed into the keras model\n",
        "    data = np.ndarray(shape=(1, 224, 224, 3), dtype=np.float32)\n",
        "    image = img\n",
        "    #image sizing\n",
        "    size = (224, 224)\n",
        "    image = ImageOps.fit(image, size, Image.ANTIALIAS)\n",
        "\n",
        "    #turn the image into a numpy array\n",
        "    image_array = np.asarray(image)\n",
        "    # Normalize the image\n",
        "    normalized_image_array = (image_array.astype(np.float32) / 127.0) - 1\n",
        "\n",
        "    # Load the image into the array\n",
        "    data[0] = normalized_image_array  # (Not sure if this is needed, but gives an error!!!)\n",
        "\n",
        "    # run the inference\n",
        "    prediction = model.predict(data)\n",
        "    return np.argmax(prediction) # return position of the highest probability"
      ],
      "execution_count": null,
      "outputs": [
        {
          "output_type": "stream",
          "name": "stdout",
          "text": [
            "Writing img_classification.py\n"
          ]
        }
      ]
    },
    {
      "cell_type": "markdown",
      "metadata": {
        "id": "x78MWzB6bF_A"
      },
      "source": [
        "This last cell would keep the app running. If stoped, the app woul be disconnected."
      ]
    },
    {
      "cell_type": "code",
      "source": [
        "!streamlit run app.py & npx localtunnel --port 8501"
      ],
      "metadata": {
        "id": "0HkAi3UOFVF5",
        "colab": {
          "base_uri": "https://localhost:8080/"
        },
        "outputId": "866054f9-3f52-4f47-cd1a-fc84f03016d2"
      },
      "execution_count": null,
      "outputs": [
        {
          "metadata": {
            "tags": null
          },
          "name": "stdout",
          "output_type": "stream",
          "text": [
            "2022-10-19 16:23:33.597 INFO    numexpr.utils: NumExpr defaulting to 2 threads.\n",
            "[..................] / rollbackFailedOptional: verb npm-session b4b305d977e5d21\u001b[0m\u001b[K\n",
            "Collecting usage statistics. To deactivate, set browser.gatherUsageStats to False.\n",
            "\u001b[0m\n",
            "\u001b[0m\n",
            "\u001b[34m\u001b[1m  You can now view your Streamlit app in your browser.\u001b[0m\n",
            "\u001b[0m\n",
            "\u001b[34m  Network URL: \u001b[0m\u001b[1mhttp://172.28.0.2:8501\u001b[0m\n",
            "\u001b[34m  External URL: \u001b[0m\u001b[1mhttp://34.141.195.85:8501\u001b[0m\n",
            "\u001b[0m\n",
            "\u001b[K\u001b[?25hnpx: installed 22 in 4.387s\n",
            "your url is: https://pink-pets-show-34-141-195-85.loca.lt\n",
            "2022-10-19 16:24:07.632178: W tensorflow/core/common_runtime/gpu/gpu_bfc_allocator.cc:42] Overriding orig_value setting because the TF_FORCE_GPU_ALLOW_GROWTH environment variable is set. Original config value was 0.\n",
            "2022-10-19 16:24:09.359 No training configuration found in the save file, so the model was *not* compiled. Compile it manually.\n",
            "1/1 [==============================] - 8s 8s/step\n",
            "2022-10-19 16:27:52.366 No training configuration found in the save file, so the model was *not* compiled. Compile it manually.\n",
            "1/1 [==============================] - 1s 641ms/step\n",
            "2022-10-19 16:29:49.844 No training configuration found in the save file, so the model was *not* compiled. Compile it manually.\n",
            "1/1 [==============================] - 1s 655ms/step\n"
          ]
        }
      ]
    }
  ]
}